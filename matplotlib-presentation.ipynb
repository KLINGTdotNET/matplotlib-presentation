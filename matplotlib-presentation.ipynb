{
 "metadata": {
  "name": "",
  "signature": "sha256:4e4a4129f95b2f6fc47562083955a3fd19fdd24bfece056424af653c536b5d62"
 },
 "nbformat": 3,
 "nbformat_minor": 0,
 "worksheets": [
  {
   "cells": [
    {
     "cell_type": "markdown",
     "metadata": {},
     "source": [
      "# Matplotlib\n",
      "\n",
      "## The Python answer to [gnuplot](http://www.gnuplot.info/)\n",
      "\n",
      "---"
     ]
    },
    {
     "cell_type": "markdown",
     "metadata": {},
     "source": [
      "### Outline:\n",
      "    - What is matplotlib?\n",
      "    - How to install matplotlib?\n",
      "    - Setting up matplotlib for Notebook\n",
      "    - Pyplot tutorial\n",
      "    - Example with our project data    "
     ]
    },
    {
     "cell_type": "markdown",
     "metadata": {},
     "source": [
      "### What is matplotlib?\n",
      "\n",
      "Matplotlib is a python library for plotting 2D Data. ...\n",
      "Website: http://matplotlib.org/index.html"
     ]
    },
    {
     "cell_type": "markdown",
     "metadata": {},
     "source": [
      "### How to install matplotlib?\n",
      "\n",
      "#### via pip\n",
      "\n",
      "..."
     ]
    },
    {
     "cell_type": "markdown",
     "metadata": {},
     "source": [
      "### Setting up matplotlib for Notebook"
     ]
    },
    {
     "cell_type": "markdown",
     "metadata": {},
     "source": [
      "ONLY FOR NOTEBOOK: '%matplotlib' magic command - to enable runing matplotlib in IPython Notebook, inline - show plots plots inside the Notebook"
     ]
    },
    {
     "cell_type": "code",
     "collapsed": false,
     "input": [
      "%matplotlib inline"
     ],
     "language": "python",
     "metadata": {},
     "outputs": [],
     "prompt_number": 1
    },
    {
     "cell_type": "markdown",
     "metadata": {},
     "source": [
      "A small test example to see if matplotlib is working properly on your Notebook"
     ]
    },
    {
     "cell_type": "code",
     "collapsed": false,
     "input": [
      "import matplotlib.pyplot as plt"
     ],
     "language": "python",
     "metadata": {},
     "outputs": [],
     "prompt_number": 2
    },
    {
     "cell_type": "code",
     "collapsed": false,
     "input": [
      "plt.plot([2,4,6,9],[1,4,9,16], 'ro')\n",
      "plt.axis([0, 10, 0, 20])\n",
      "plt.show()"
     ],
     "language": "python",
     "metadata": {},
     "outputs": [
      {
       "metadata": {},
       "output_type": "display_data",
       "png": "[encoded data removed]",
       "text": [
        "<matplotlib.figure.Figure at 0x105927748>"
       ]
      }
     ],
     "prompt_number": 8
    },
    {
     "cell_type": "markdown",
     "metadata": {},
     "source": [
      "### Pyplot tutorial\n",
      "    \n",
      "#### What is pyplot?\n",
      "- matplotlib.pyplot: is a collection of functions that make matplotlib work like MATLAB \n",
      "- each pyplot function makes some change to a figure: eg, create a figure, create a plotting area in a figure, decorate the plot with labels, etc\n",
      "- for detailed descriptions of all pyplot functions, see  <a href='http://matplotlib.org/api/pyplot_api.html'>here</a>"
     ]
    },
    {
     "cell_type": "markdown",
     "metadata": {},
     "source": [
      "#### Function:  plot(arg, kwargs)\n",
      " - for ploting lines and/or markers to the Axes\n",
      " - 'arg' can be a list or multiple x, y pairs"
     ]
    },
    {
     "cell_type": "code",
     "collapsed": false,
     "input": [
      "# define data as lists\n",
      "x1 = [2,4,6,8]\n",
      "y1 = [5.5,7,2,4]\n",
      "x2 = [4,6,8,10,12,14]\n",
      "y2 = [-12,-14,-7,-12,-3.3,-1]\n",
      "#draw the first line\n",
      "plt.plot(y1)\n",
      "\n",
      "#draw x, y plot\n",
      "plt.plot(x1,y1)\n",
      "\n",
      "#draw two lines in one plot\n",
      "plt.plot(x1,y1,x2,y2)\n",
      "\n",
      "plt.xlabel('days')\n",
      "plt.ylabel('scores')\n",
      "plt.show()"
     ],
     "language": "python",
     "metadata": {},
     "outputs": [
      {
       "metadata": {},
       "output_type": "display_data",
       "png": "[encoded data removed]",
       "text": [
        "<matplotlib.figure.Figure at 0x1057e64a8>"
       ]
      }
     ],
     "prompt_number": 51
    },
    {
     "cell_type": "markdown",
     "metadata": {},
     "source": [
      "- 'kwargs': so-called 'keyword args', is a string to specify the formating of the plot. It contains actually the 'keys' of several <a href='http://matplotlib.org/api/pyplot_api.html'>formating dictionaries</a> which define such as line style, marker style and color. "
     ]
    },
    {
     "cell_type": "code",
     "collapsed": false,
     "input": [
      "#-g : line in green \n",
      "plt.plot(y1,'-g')\n",
      "\n",
      "#ro- : red circle with line\n",
      "plt.plot(x1,y1,'ro-')\n",
      "\n",
      "#g* : star symbols in green\n",
      "plt.plot(x1,y1,'ro-',x2,y2,'g*')\n",
      "plt.show()"
     ],
     "language": "python",
     "metadata": {},
     "outputs": [
      {
       "metadata": {},
       "output_type": "display_data",
       "png": "[encoded data removed]",
       "text": [
        "<matplotlib.figure.Figure at 0x106ef8a90>"
       ]
      }
     ],
     "prompt_number": 70
    },
    {
     "cell_type": "markdown",
     "metadata": {},
     "source": [
      "Instead of using the keys(abbreviations), kwargs can be also given using <a href='http://matplotlib.org/api/lines_api.html'>Line2D</a> property assignments.\n",
      "\n",
      "axis( ): define the range of the axes [xmin, xmax, ymin, ymax]\n",
      "\n",
      "legend( ): show labels"
     ]
    },
    {
     "cell_type": "code",
     "collapsed": false,
     "input": [
      "plt.plot(x2, y2, color='green', linestyle='dashed', marker='o',\n",
      "     markerfacecolor='blue', markersize=12,label='line1',linewidth=3)\n",
      "plt.axis([2, 16, -16, 2])\n",
      "plt.legend()\n",
      "plt.show()"
     ],
     "language": "python",
     "metadata": {},
     "outputs": [
      {
       "metadata": {},
       "output_type": "display_data",
       "png": "[encoded data removed]",
       "text": [
        "<matplotlib.figure.Figure at 0x106c78e10>"
       ]
      }
     ],
     "prompt_number": 99
    },
    {
     "cell_type": "markdown",
     "metadata": {},
     "source": [
      "setp( ): can also be used to define line style"
     ]
    },
    {
     "cell_type": "code",
     "collapsed": false,
     "input": [
      "lines = plt.plot(x1, y1, x2, y2)\n",
      "# use keyword args\n",
      "plt.setp(lines, color='r', linewidth=2.0)\n",
      "# or MATLAB style string value pairs\n",
      "plt.setp(lines, 'color', 'r', 'linewidth', 2.0)\n",
      "plt.show()"
     ],
     "language": "python",
     "metadata": {},
     "outputs": [
      {
       "metadata": {},
       "output_type": "display_data",
       "png": "[encoded data removed]",
       "text": [
        "<matplotlib.figure.Figure at 0x106fd0ac8>"
       ]
      }
     ],
     "prompt_number": 102
    },
    {
     "cell_type": "markdown",
     "metadata": {},
     "source": [
      "#### numpy arrays instead of lists\n",
      "Generally, the input data are numpy arrays but not lists. In fact, all sequences are converted to numpy arrays internally.\n",
      "\n",
      "<a href = 'http://www.numpy.org'>NumPy</a>: is the fundamental package for scientific computing with Python. It contains among other things, a powerful N-dimensional array object.\n",
      "\n",
      "arange(start, end, interval): returns array instead of list"
     ]
    },
    {
     "cell_type": "code",
     "collapsed": false,
     "input": [
      "import numpy as np\n",
      "\n",
      "# evenly sampled time at 200ms intervals\n",
      "t = np.arange(0., 5., 0.2)\n",
      "\n",
      "# red dashes, blue squares and green triangles\n",
      "plt.plot(t, t, 'r--', t, t**2, 'bs', t, t**3, 'g^')\n",
      "plt.show()"
     ],
     "language": "python",
     "metadata": {},
     "outputs": [
      {
       "metadata": {},
       "output_type": "display_data",
       "png": "[encoded data removed]",
       "text": [
        "<matplotlib.figure.Figure at 0x106f24518>"
       ]
      }
     ],
     "prompt_number": 105
    },
    {
     "cell_type": "markdown",
     "metadata": {},
     "source": [
      "There are many different types of graphs possible, for more <a href='http://matplotlib.org/users/screenshots.html#simple-plot'>examples</a>."
     ]
    },
    {
     "cell_type": "markdown",
     "metadata": {},
     "source": [
      "#### using import data???"
     ]
    },
    {
     "cell_type": "code",
     "collapsed": false,
     "input": [],
     "language": "python",
     "metadata": {},
     "outputs": [],
     "prompt_number": 106
    },
    {
     "cell_type": "markdown",
     "metadata": {},
     "source": [
      "### Example with our project data\n",
      "    - bar chart: e.g. frequency distrubution (SD) of 10 most frequent particles\n",
      "        -http://matplotlib.org/users/screenshots.html#simple-plot\n",
      "    ..."
     ]
    },
    {
     "cell_type": "code",
     "collapsed": false,
     "input": [],
     "language": "python",
     "metadata": {},
     "outputs": []
    }
   ],
   "metadata": {}
  }
 ]
}