{
 "metadata": {
  "name": "",
  "signature": "sha256:e28b2fa35d02d44b6fe803b611a8b525d47186214044e05e36c8a47cb7531a8f"
 },
 "nbformat": 3,
 "nbformat_minor": 0,
 "worksheets": [
  {
   "cells": [
    {
     "cell_type": "markdown",
     "metadata": {},
     "source": [
      "# Matplotlib\n",
      "\n",
      "## A python 2D plotting library\n",
      "\n",
      "[Andreas Linz](www.klingt.net), Lani Lin and Huan Meng.\n",
      "\n",
      "This presentation refers to the latest stable matplotlib version [1.4.2](http://matplotlib.org/1.4.2/index.html).\n",
      "\n",
      "---"
     ]
    },
    {
     "cell_type": "markdown",
     "metadata": {},
     "source": [
      "### Outline:\n",
      "    - What is matplotlib?\n",
      "    - How to install matplotlib?\n",
      "    - Setting up matplotlib for Notebook\n",
      "    - Pyplot tutorial\n",
      "    - Example with our project data    "
     ]
    },
    {
     "cell_type": "markdown",
     "metadata": {},
     "source": [
      "## What is matplotlib?\n",
      "\n",
      "- [open-source](https://github.com/matplotlib/matplotlib) python library for 2D plotting\n",
      "- API inspired by [MATLAB](http://nl.mathworks.com/)\n",
      "- PSF-like [license](http://matplotlib.org/users/license.html)\n",
      "- creates publication quality figures\n",
      "- can be used in python scripts, Ipython notebooks, etc.\n",
      "- backends for generating vector or \n",
      "- ...\n",
      "- some of the available diagram types: plots, histograms, bar charts, scatterplots ...\n",
      "- matplotlib is divided in three main parts:\n",
      "    1. **pylab interface** to create MATLAB like figures, provided by `matplotlib.pylab`\n",
      "    1. **matplotlib frontend** or *matplotlib API*\n",
      "    1. **matplotlib backends** are the renderers for different kinds of formats"
     ]
    },
    {
     "cell_type": "markdown",
     "metadata": {},
     "source": [
      "## How to install matplotlib?\n",
      "\n",
      "At first make sure you have pip installed!\n",
      "\n",
      "### install pip\n",
      "\n",
      "#### OSX\n",
      "\n",
      "...\n",
      "\n",
      "#### Linux\n",
      "\n",
      "- use the package manager of your choice\n",
      "- usually the package should be called something like `python-pip`\n",
      "\n",
      "### Windows (non-anaonda)\n",
      "\n",
      "- install the latest [python release](https://www.python.org/downloads/windows/) (python 3.4+ includes pip)\n",
      "- add pip to your `PATH` by adding the `Scripts/` subdirectory of your python installation to this environment variable:\n",
      "    - `Start \u2192 Control Panel \u2192 System \u2192 Advanced \u2192 Environment Variables ...`\n",
      "    - append `Path` under *System Variables* with the Path of the `Scripts` directory, the default is `C:\\Python34\\Scripts`\n",
      "...\n",
      "\n",
      "### install matplotlib\n",
      "\n",
      "- sidenote: if you haven't installed Ipython then you can install it via `pip install ipython[notebook]` (installs with dependencies for Ipython notebooks)\n",
      "- `pip install matplotlib`\n",
      "\n",
      "#### Windows (non-anaconda)\n",
      "\n",
      "- use the [precompiled installers](http://matplotlib.org/downloads.html) for installing matplotlib\n",
      "\n",
      "### check your installation\n",
      "\n",
      "- `python3 -c 'import matplotlib; print(matplotlib.__version__, matplotlib.__file__)'`"
     ]
    },
    {
     "cell_type": "markdown",
     "metadata": {},
     "source": [
      "---"
     ]
    },
    {
     "cell_type": "markdown",
     "metadata": {},
     "source": [
      "## Setting up matplotlib for Notebook\n",
      "\n",
      "### Enable matplotlib\n",
      "\n",
      "- start Ipython with the `--matplotlib` **switch**: `ipython notebook --matplotlib`\n",
      "- *or* use the **magic command** at the top cell of your notebook: `%matplotlib inline`"
     ]
    },
    {
     "cell_type": "markdown",
     "metadata": {},
     "source": [
      "- inline - show plots plots inside the Notebook"
     ]
    },
    {
     "cell_type": "code",
     "collapsed": false,
     "input": [
      "%matplotlib inline\n",
      "import matplotlib.pyplot as plt"
     ],
     "language": "python",
     "metadata": {},
     "outputs": [],
     "prompt_number": 1
    },
    {
     "cell_type": "markdown",
     "metadata": {},
     "source": [
      "A small test example to see if matplotlib is working properly on your Notebook"
     ]
    },
    {
     "cell_type": "code",
     "collapsed": false,
     "input": [
      "plt.plot([2,4,6,9],[1,4,9,16], 'ro')\n",
      "plt.axis([0, 10, 0, 20])\n",
      "plt.show()"
     ],
     "language": "python",
     "metadata": {},
     "outputs": [
      {
       "metadata": {},
       "output_type": "display_data",
       "png": "[encoded data removed]",
       "text": [
        "<matplotlib.figure.Figure at 0x7f464eb8ee80>"
       ]
      }
     ],
     "prompt_number": 2
    },
    {
     "cell_type": "markdown",
     "metadata": {},
     "source": [
      "### Pyplot tutorial\n",
      "    \n",
      "#### What is pyplot?\n",
      "- matplotlib.pyplot: is a collection of functions that make matplotlib work like MATLAB \n",
      "- each pyplot function makes some change to a figure: eg, create a figure, create a plotting area in a figure, decorate the plot with labels, etc\n",
      "- for detailed descriptions of all pyplot functions, see  <a href='http://matplotlib.org/api/pyplot_api.html'>here</a>"
     ]
    },
    {
     "cell_type": "markdown",
     "metadata": {},
     "source": [
      "#### Function:  plot(arg, kwargs)\n",
      " - for ploting lines and/or markers to the Axes\n",
      " - 'arg' can be a list or multiple x, y pairs"
     ]
    },
    {
     "cell_type": "code",
     "collapsed": false,
     "input": [
      "# define data as lists\n",
      "x1 = [2,4,6,8]\n",
      "y1 = [5.5,7,2,4]\n",
      "x2 = [4,6,8,10,12,14]\n",
      "y2 = [-12,-14,-7,-12,-3.3,-1]\n",
      "#draw the first line\n",
      "plt.plot(y1)\n",
      "\n",
      "#draw x, y plot\n",
      "plt.plot(x1,y1)\n",
      "\n",
      "#draw two lines in one plot\n",
      "plt.plot(x1,y1,x2,y2)\n",
      "\n",
      "plt.xlabel('days')\n",
      "plt.ylabel('scores')\n",
      "plt.show()"
     ],
     "language": "python",
     "metadata": {},
     "outputs": [
      {
       "metadata": {},
       "output_type": "display_data",
       "png": "[encoded data removed]",
       "text": [
        "<matplotlib.figure.Figure at 0x7f464eb8e6a0>"
       ]
      }
     ],
     "prompt_number": 3
    },
    {
     "cell_type": "markdown",
     "metadata": {},
     "source": [
      "- 'kwargs': so-called 'keyword args', is a string to specify the formating of the plot. It contains actually the 'keys' of several <a href='http://matplotlib.org/api/pyplot_api.html'>formating dictionaries</a> which define such as line style, marker style and color. "
     ]
    },
    {
     "cell_type": "code",
     "collapsed": false,
     "input": [
      "#-g : line in green \n",
      "plt.plot(y1,'-g')\n",
      "\n",
      "#ro- : red circle with line\n",
      "plt.plot(x1,y1,'ro-')\n",
      "\n",
      "#g* : star symbols in green\n",
      "plt.plot(x1,y1,'ro-',x2,y2,'g*')\n",
      "plt.show()"
     ],
     "language": "python",
     "metadata": {},
     "outputs": [
      {
       "metadata": {},
       "output_type": "display_data",
       "png": "[encoded data removed]",
       "text": [
        "<matplotlib.figure.Figure at 0x7f464e2bed30>"
       ]
      }
     ],
     "prompt_number": 4
    },
    {
     "cell_type": "markdown",
     "metadata": {},
     "source": [
      "Instead of using the keys(abbreviations), kwargs can be also given using <a href='http://matplotlib.org/api/lines_api.html'>Line2D</a> property assignments.\n",
      "\n",
      "axis( ): define the range of the axes [xmin, xmax, ymin, ymax]\n",
      "\n",
      "legend( ): show labels"
     ]
    },
    {
     "cell_type": "code",
     "collapsed": false,
     "input": [
      "plt.plot(x2, y2, color='green', linestyle='dashed', marker='o',\n",
      "     markerfacecolor='blue', markersize=12,label='line1',linewidth=3)\n",
      "plt.axis([2, 16, -16, 2])\n",
      "plt.legend()\n",
      "plt.show()"
     ],
     "language": "python",
     "metadata": {},
     "outputs": [
      {
       "metadata": {},
       "output_type": "display_data",
       "png": "[encoded data removed]",
       "text": [
        "<matplotlib.figure.Figure at 0x7f464e354198>"
       ]
      }
     ],
     "prompt_number": 5
    },
    {
     "cell_type": "markdown",
     "metadata": {},
     "source": [
      "setp( ): can also be used to define line style"
     ]
    },
    {
     "cell_type": "code",
     "collapsed": false,
     "input": [
      "lines = plt.plot(x1, y1, x2, y2)\n",
      "# use keyword args\n",
      "plt.setp(lines, color='r', linewidth=2.0)\n",
      "# or MATLAB style string value pairs\n",
      "plt.setp(lines, 'color', 'r', 'linewidth', 2.0)\n",
      "plt.show()"
     ],
     "language": "python",
     "metadata": {},
     "outputs": [
      {
       "metadata": {},
       "output_type": "display_data",
       "png": "[encoded data removed]",
       "text": [
        "<matplotlib.figure.Figure at 0x7f464e32d198>"
       ]
      }
     ],
     "prompt_number": 6
    },
    {
     "cell_type": "markdown",
     "metadata": {},
     "source": [
      "#### numpy arrays instead of lists\n",
      "Generally, the input data are numpy arrays but not lists. In fact, all sequences are converted to numpy arrays internally.\n",
      "\n",
      "<a href = 'http://www.numpy.org'>NumPy</a>: is the fundamental package for scientific computing with Python. It contains among other things, a powerful N-dimensional array object.\n",
      "\n",
      "arange(start, end, interval): returns array instead of list"
     ]
    },
    {
     "cell_type": "code",
     "collapsed": false,
     "input": [
      "import numpy as np\n",
      "\n",
      "# evenly sampled time at 200ms intervals\n",
      "t = np.arange(0., 5., 0.2)\n",
      "\n",
      "# red dashes, blue squares and green triangles\n",
      "plt.plot(t, t, 'r--', t, t**2, 'bs', t, t**3, 'g^')\n",
      "plt.show()"
     ],
     "language": "python",
     "metadata": {},
     "outputs": [
      {
       "metadata": {},
       "output_type": "display_data",
       "png": "[encoded data removed]",
       "text": [
        "<matplotlib.figure.Figure at 0x7f464e303da0>"
       ]
      }
     ],
     "prompt_number": 7
    },
    {
     "cell_type": "markdown",
     "metadata": {},
     "source": [
      "There are many different types of graphs possible, for more <a href='http://matplotlib.org/users/screenshots.html#simple-plot'>examples</a>."
     ]
    },
    {
     "cell_type": "markdown",
     "metadata": {},
     "source": [
      "#### using import data???"
     ]
    },
    {
     "cell_type": "code",
     "collapsed": false,
     "input": [],
     "language": "python",
     "metadata": {},
     "outputs": [],
     "prompt_number": 7
    },
    {
     "cell_type": "markdown",
     "metadata": {},
     "source": [
      "### Example with our project data\n",
      "    - bar chart: e.g. frequency distrubution (SD) of 10 most frequent particles\n",
      "        -http://matplotlib.org/users/screenshots.html#simple-plot\n",
      "    ..."
     ]
    },
    {
     "cell_type": "code",
     "collapsed": false,
     "input": [],
     "language": "python",
     "metadata": {},
     "outputs": [],
     "prompt_number": 7
    }
   ],
   "metadata": {}
  }
 ]
}