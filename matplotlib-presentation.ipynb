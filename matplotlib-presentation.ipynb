{
 "metadata": {
  "name": "",
  "signature": "sha256:d785236baac04a969e60b85dc45fe2fc49c2a0cb3c15b19feaeca5e34972567b"
 },
 "nbformat": 3,
 "nbformat_minor": 0,
 "worksheets": [
  {
   "cells": [
    {
     "cell_type": "markdown",
     "metadata": {},
     "source": [
      "# Matplotlib\n",
      "\n",
      "## A python 2D plotting library\n",
      "\n",
      "[Andreas Linz](www.klingt.net), Ying-Chi Lin and Huan Meng.\n",
      "\n",
      "This presentation refers to the latest stable matplotlib version [1.4.2](http://matplotlib.org/1.4.2/index.html).\n",
      "\n",
      "---"
     ]
    },
    {
     "cell_type": "markdown",
     "metadata": {},
     "source": [
      "### Outline:\n",
      "    - What is matplotlib?\n",
      "    - How to install matplotlib?\n",
      "    - Setting up matplotlib for iPython Notebook\n",
      "    - Pyplot tutorial "
     ]
    },
    {
     "cell_type": "markdown",
     "metadata": {},
     "source": [
      "## What is matplotlib?\n",
      "\n",
      "- [open-source](https://github.com/matplotlib/matplotlib) python library for 2D plotting\n",
      "- API inspired by [MATLAB](http://nl.mathworks.com/)\n",
      "- PSF-like [license](http://matplotlib.org/users/license.html) (Python Software Foundation)\n",
      "- great-publication figures\n",
      "- makes heavy use of NumPy (other extension codes)\n",
      "- can be used in python scripts, Ipython notebooks, etc.\n",
      "- backends for generating vector or pixel graphics, PDFs, postscript etc.\n",
      "- some of the available diagram types: plots, histograms, bar charts, scatterplots ...\n",
      "- matplotlib is divided into three main parts:\n",
      "    1. **pylab interface** to create MATLAB like figures, provided by `matplotlib.pylab`\n",
      "    2. **matplotlib frontend** or *matplotlib API*\n",
      "    3. **matplotlib backends** are the renderers for different kinds of formats,device-dependent drawing devices"
     ]
    },
    {
     "cell_type": "markdown",
     "metadata": {},
     "source": [
      "## How to install matplotlib?\n",
      "\n",
      "At first make sure you have pip or some other pre-built packages installed!\n",
      "\n",
      "- [pip](https://pypi.python.org/pypi/pip/6.0.6)\n",
      "- `pip` works on Unix/Linux, OS X, and Windows.\n",
      "- `pip` comes with Python (no need to install it seperately)\n",
      "\n",
      "\n",
      "### Source install from git\n",
      "- When you are interested in contributing to matplotlib development, running the latest source code, or just like to build everything yourself, it is not dicult to build matplotlib from source:\n",
      "\n",
      "```bash\n",
      "git clone git@github.com:matplotlib/matplotlib.git\n",
      "cd matplotlib\n",
      "python setup.py build\n",
      "python setup.py install\n",
      "```\n",
      "\n",
      "### OSX\n",
      "\n",
      "- new terminal APP \n",
      "\n",
      "```\n",
      "curl -O https://bootstrap.pypa.io/get-pip.py\n",
      "python get-pip.py\n",
      "pip install matplotlib\n",
      "```\n",
      "\n",
      "- if you want to install IPython with the dependencies needed for Ipython notebooks\n",
      "\n",
      "```\n",
      "pip install ipython[notebook]\n",
      "```\n",
      "\n",
      "### Linux\n",
      "\n",
      "- use the package manager of your choice:\n",
      "    - Fedora / Redhat: \n",
      "        - `sudo yum install python-matplotlib`\n",
      "    - Debian / Ubuntu:\n",
      "        - `sudo apt-get install python-matplotlib`\n",
      "    - Arch: \n",
      "        - `sudo pacman -S python-matplotlib`\n",
      "- usually the package should be called something like `python-pip`\n",
      "\n",
      "### Windows\n",
      "\n",
      "- use one of the scipy-stack compatible Python distributions such as Python(x,y), Enthought Canopy, or Continuum Anaconda.\n",
      "- install the latest [python release](https://www.python.org/downloads/windows/) (python 3.4+ includes pip)\n",
      "- add pip to your `PATH` by adding the `Scripts/` subdirectory of your python installation to this environment variable:\n",
      "    - `Start \u2192 Control Panel \u2192 System \u2192 Advanced \u2192 Environment Variables ...`\n",
      "    - append `Path` under *System Variables* with the Path of the `Scripts` directory, the default is `C:\\Python34\\Scripts`\n",
      "\n",
      "#### install matplotlib\n",
      "\n",
      "- *sidenote*: if you haven't installed Ipython yet, then you can install it via `pip install ipython[notebook]` (installs with dependencies for Ipython notebooks)\n",
      "- `pip install matplotlib`\n",
      "- **or** use the [precompiled installers](http://matplotlib.org/downloads.html) for installing matplotlib, which is *recommended*\n",
      "\n",
      "### check your installation\n",
      "\n",
      "- `python3 -c 'import matplotlib; print(matplotlib.__version__, matplotlib.__file__)'`\n",
      "- `python2.7 -c 'import matplotlib; print(matplotlib.__version__, matplotlib.__file__)'`\n"
     ]
    },
    {
     "cell_type": "markdown",
     "metadata": {},
     "source": [
      "---"
     ]
    },
    {
     "cell_type": "markdown",
     "metadata": {},
     "source": [
      "## Setting up matplotlib for Notebook\n",
      "\n",
      "### Enable matplotlib\n",
      "\n",
      "- start Ipython with the `--matplotlib` **switch**: `ipython notebook --matplotlib`\n",
      "- **or** use the **magic command** at the top cell of your notebook: `%matplotlib inline`\n",
      "    - inline - show plots inside the Notebook"
     ]
    },
    {
     "cell_type": "code",
     "collapsed": false,
     "input": [
      "%matplotlib inline\n",
      "import matplotlib.pyplot as plt"
     ],
     "language": "python",
     "metadata": {},
     "outputs": []
    },
    {
     "cell_type": "markdown",
     "metadata": {},
     "source": [
      "A small test example to see if matplotlib is working properly on your Notebook"
     ]
    },
    {
     "cell_type": "code",
     "collapsed": false,
     "input": [
      "plt.plot([2,4,6,9],[1,4,9,16], 'ro')\n",
      "plt.axis([0, 10, 0, 20])\n",
      "plt.show()"
     ],
     "language": "python",
     "metadata": {},
     "outputs": []
    },
    {
     "cell_type": "markdown",
     "metadata": {},
     "source": [
      "# Pyplot tutorial\n",
      "    \n",
      "### What is pyplot?\n",
      "- `matplotlib.pyplot`: is a collection of functions that make matplotlib work like MATLAB \n",
      "- each pyplot function makes some change to a figure: e.g. create a figure, create a plotting area in a figure, decorate the plot with labels, etc.\n",
      "- for detailed descriptions of all pyplot functions, see  <a href='http://matplotlib.org/api/pyplot_api.html'>here</a>"
     ]
    },
    {
     "cell_type": "markdown",
     "metadata": {},
     "source": [
      "### Parts of a Figure\n",
      "<img src=\"data/fig_map.png\">\n",
      "#### Figure\n",
      "- can contain several Axes (= plots)\n",
      "- to create a new figure use"
     ]
    },
    {
     "cell_type": "code",
     "collapsed": false,
     "input": [
      "fig = plt.figure()  # create an empty figure with no axes\n",
      "fig, ax = plt.subplots(2, 2)  # a figure with a 2x2 grid of Axes"
     ],
     "language": "python",
     "metadata": {},
     "outputs": []
    },
    {
     "cell_type": "markdown",
     "metadata": {},
     "source": [
      "function <b> subplots( )</b> returns a tuple <i> fig, ax</i>\n",
      "- <i> fig </i> is the matplotlib.figure.Figure object\n",
      "- <i>ax  </i> can be either a single axes object or an array of axes objects"
     ]
    },
    {
     "cell_type": "markdown",
     "metadata": {},
     "source": [
      "## How to draw a simple plot (Axes)\n",
      "\n",
      "### Function:  plot(arg, kwargs)\n",
      " - for plotting lines and/or markers to the Axes\n",
      " - <i>arg</i> can be a list or multiple x, y pairs"
     ]
    },
    {
     "cell_type": "code",
     "collapsed": false,
     "input": [
      "# define data as lists\n",
      "x1 = [2,4,6,8]\n",
      "y1 = [5.5,7,2,4]\n",
      "x2 = [4,6,8,10,12,14]\n",
      "y2 = [-12,-14,-7,-12,-3.3,-1]\n",
      "#let's draw the first line\n",
      "# if no x-value is given an incrementing index, beginning from zero, will be used\n",
      "plt.plot(y1)\n",
      "\n",
      "#draw x, y plot\n",
      "#plt.plot(x1,y1)\n",
      "\n",
      "#draw two lines in one plot\n",
      "#plt.plot(x1,y1,x2,y2)\n",
      "\n",
      "plt.show()"
     ],
     "language": "python",
     "metadata": {},
     "outputs": []
    },
    {
     "cell_type": "markdown",
     "metadata": {},
     "source": [
      "### Change line/marker style\n",
      "- **kwargs**: so-called 'keyword args', is a string to specify the formatting of the plot. It contains actually the 'keys' of several <a href='http://matplotlib.org/api/pyplot_api.html'>formatting dictionaries</a> which define things such as line style, marker style and color. "
     ]
    },
    {
     "cell_type": "code",
     "collapsed": false,
     "input": [
      "#-g : line in green \n",
      "plt.plot(y1,'-g')\n",
      "\n",
      "#ro- : red circle with line\n",
      "plt.plot(x1,y1,'ro-')\n",
      "\n",
      "#g* : star symbols in green\n",
      "plt.plot(x1,y1,'ro-',x2,y2,'g*')\n",
      "plt.show()"
     ],
     "language": "python",
     "metadata": {},
     "outputs": []
    },
    {
     "cell_type": "markdown",
     "metadata": {},
     "source": [
      "- Instead of using the keys(abbreviations), <i> kwargs </i> can also be given using <a href='http://matplotlib.org/api/lines_api.html'>Line2D</a> property assignments."
     ]
    },
    {
     "cell_type": "markdown",
     "metadata": {},
     "source": [
      "- **axis( )**: define the range of the axes [xmin, xmax, ymin, ymax]\n",
      "- **legend( )**: show labels"
     ]
    },
    {
     "cell_type": "code",
     "collapsed": false,
     "input": [
      "plt.plot(x2, y2, color='green', linestyle='dashed', marker='o',\n",
      "     markerfacecolor='blue', markersize=12,label='line1',linewidth=3)\n",
      "plt.axis([2, 16, -16, 2])\n",
      "plt.legend()\n",
      "plt.show()"
     ],
     "language": "python",
     "metadata": {},
     "outputs": []
    },
    {
     "cell_type": "markdown",
     "metadata": {},
     "source": [
      "- **setp( )**  (\u201cset property\u201d) : can also be used to define line style"
     ]
    },
    {
     "cell_type": "code",
     "collapsed": false,
     "input": [
      "lines = plt.plot(x1, y1, x2, y2)\n",
      "# use keyword args\n",
      "plt.setp(lines, color='r', linewidth=2.0) \n",
      "# or MATLAB style string value pairs\n",
      "plt.setp(lines, 'color', 'r', 'linewidth', 2.0)\n",
      "plt.show()"
     ],
     "language": "python",
     "metadata": {},
     "outputs": []
    },
    {
     "cell_type": "markdown",
     "metadata": {},
     "source": [
      "### Adding axes title, axis label and line legend\n",
      "to see available [text properties](http://matplotlib.org/api/text_api.html) (horizontal-alignment, rotation etc...)"
     ]
    },
    {
     "cell_type": "code",
     "collapsed": false,
     "input": [
      "line1 = plt.plot(x1, y1)\n",
      "line2 = plt.plot(x2, y2)\n",
      "plt.setp(line1, color='r', linewidth=2.0, label='mouse')\n",
      "plt.setp(line2, color='b', linewidth=2.0, label='pig')\n",
      "plt.title('test results', color='g',fontsize=18)\n",
      "plt.xlabel('days',fontsize=16,style='italic')\n",
      "plt.ylabel('value',fontsize=16,style='italic', rotation='horizontal')\n",
      "plt.legend() # to show legend\n",
      "plt.show()"
     ],
     "language": "python",
     "metadata": {},
     "outputs": []
    },
    {
     "cell_type": "markdown",
     "metadata": {},
     "source": [
      "There are many different types of graphs possible, for more [examples](http://matplotlib.org/users/screenshots.html#simple-plot)."
     ]
    },
    {
     "cell_type": "markdown",
     "metadata": {},
     "source": [
      "## Plot functions"
     ]
    },
    {
     "cell_type": "code",
     "collapsed": false,
     "input": [
      "import numpy as np\n",
      "import math\n",
      "\n",
      "# [linear space](http://docs.scipy.org/doc/numpy/reference/generated/numpy.linspace.html),\n",
      "# returns a list of equally evenly spaced numbers in the given interval\n",
      "x1 = np.linspace(0.0, 5.0)\n",
      "x2 = np.linspace(0.0, 1.0, 1000)\n",
      "\n",
      "# f(x) = cos(2*pi*x) * e^(-x)\n",
      "y1 = np.cos(2 * np.pi * x1) * np.exp(-x1)\n",
      "\n",
      "# second plot without numpy array for the y-axis\n",
      "def f(x):\n",
      "    return math.sin(x**x)\n",
      "\n",
      "y2 = [ f(x*math.pi) for x in x2 ]\n",
      "\n",
      "plt.title('Two subplots')\n",
      "plt.subplot(2, 1, 1)\n",
      "plt.plot(x1, y1, 'yo-')\n",
      "plt.ylabel(r'$\\cos(2\\pi*x) * e^{-x}$', fontsize=16)\n",
      "\n",
      "plt.subplot(2, 1, 2)\n",
      "plt.plot(x2, y2, 'r.-')\n",
      "plt.xlabel('radiant')\n",
      "plt.ylabel(r'$\\sin(\\pi*x^{\\pi*x})$', fontsize=16)\n",
      "\n",
      "# change the plot size\n",
      "from pylab import rcParams\n",
      "xSize, ySize = rcParams['figure.figsize']\n",
      "# run this cell three times and the plot size will change, global state magic!\n",
      "rcParams['figure.figsize'] = (16, 9)\n",
      "plt.show()"
     ],
     "language": "python",
     "metadata": {},
     "outputs": []
    },
    {
     "cell_type": "code",
     "collapsed": false,
     "input": [
      "# reset global size\n",
      "rcParams['figure.figsize'] = (6.0, 4.0)"
     ],
     "language": "python",
     "metadata": {},
     "outputs": []
    },
    {
     "cell_type": "markdown",
     "metadata": {},
     "source": [
      "## Using external datasets"
     ]
    },
    {
     "cell_type": "markdown",
     "metadata": {},
     "source": [
      "- all plotting functions expect `np.array` or `np.ma.masked_array` as input (where `np` is numpy)\n",
      "- example datasource [Berlin OpenData](http://daten.berlin.de) (their data is not UTF-8 formatted!)\n",
      "    - I've used the first dataset that I've found on `daten.berlin.de`, so the following diagram is only for demonstration purposes and nothing else!"
     ]
    },
    {
     "cell_type": "code",
     "collapsed": false,
     "input": [
      "# dataset\n",
      "datasetpath = 'data/EWR_Ortsteile_2012-12-31.csv'\n",
      "data = None\n",
      "with open(datasetpath) as f:\n",
      "    data = f.readlines()\n",
      "\n",
      "for i in range(10):\n",
      "    print(data[i])\n",
      "print('...')"
     ],
     "language": "python",
     "metadata": {},
     "outputs": []
    },
    {
     "cell_type": "code",
     "collapsed": false,
     "input": [
      "# distribution of age and population for Berlin districts divided by foreigners and locals\n",
      "import csv\n",
      "from statistics import mean\n",
      "import numpy as np\n",
      "from collections import defaultdict\n",
      "\n",
      "def clean(age, count):\n",
      "    if 'und' in age:\n",
      "        # fix inconsistent values\n",
      "        agerange = '95-100+'\n",
      "    else:\n",
      "        ages = age.split('_')\n",
      "        agerange = '{}-{}'.format(ages[0], ages[1])\n",
      "    return agerange, int(count.split(',')[0])\n",
      "\n",
      "data = { \n",
      "'total': {\n",
      "    'foreigner': defaultdict(list),\n",
      "    'local': defaultdict(list)\n",
      "    }\n",
      "}\n",
      "with open(datasetpath) as f:\n",
      "    # automatically uses csv header to generate keys\n",
      "    # regardless of their name, csv files are not always delimited by `,`\n",
      "    csvdata = csv.DictReader(f, delimiter=';') \n",
      "    # csvdata is a list of dict's, one dictionary for each line of data\n",
      "    for dict_row in csvdata:\n",
      "        # collect values for each district\n",
      "        district = dict_row['Bez-Name']\n",
      "        # maybe I should use defaultdicts ...\n",
      "        if not district in data:\n",
      "            data[district] = {\n",
      "                'foreigner': {},\n",
      "                'local': {}\n",
      "            }\n",
      "        citizenship = dict_row['Staatsangeh']\n",
      "        # clean up inconsistent values\n",
      "        age, cnt = clean(dict_row['Altersgr'], dict_row['H\u00e4ufigkeit'])\n",
      "        if citizenship == 'A':\n",
      "            # totals could be accumulated by a seperate function, but it's more convenient this way\n",
      "            data['total']['foreigner'][age].append(cnt)\n",
      "            data[district]['foreigner'][age] = cnt\n",
      "        elif citizenship == 'D':\n",
      "            data['total']['local'][age].append(cnt)\n",
      "            data[district]['local'][age] = cnt\n",
      "\n",
      "# calculate the average age of each district for foreigner and locals\n",
      "foreigners = {\n",
      "    'age': [],   # x-axis\n",
      "    'means': []  # y-axis\n",
      "}\n",
      "\n",
      "locals = {\n",
      "    'age':[],\n",
      "    'means': []\n",
      "}\n",
      "\n",
      "# iterate over the sorted keys and add the values in order to the list\n",
      "for age, number in sorted(data['total']['foreigner'].items()):\n",
      "    # number is a list containing the number of foreigners/locals of the specific age for each district\n",
      "    foreigners['age'].append(age)\n",
      "    # add the arithmetic mean over all numbers of foreigners/local for that age in each district\n",
      "    foreigners['means'].append(mean(number))\n",
      "for age, number in sorted(data['total']['local'].items()):\n",
      "    locals['age'].append(age)\n",
      "    locals['means'].append(mean(number))\n",
      "\n",
      "# import pprint\n",
      "# pp = pprint.PrettyPrinter()\n",
      "# pp.pprint(locals)\n",
      "\n",
      "# numpy.arange returns evenly spaced for the given range, g.e. arange(3) returns [0, 1, 2]\n",
      "# this will be used to set the x-coordinate of each bar in the plot\n",
      "# http://docs.scipy.org/doc/numpy/reference/generated/numpy.arange.html\n",
      "indices = np.arange(len(foreigners['means']))\n",
      "# http://matplotlib.org/api/pyplot_api.html#matplotlib.pyplot.bar\n",
      "# plt.bar(\"x-coord from the left\", \"bar height\", ...)\n",
      "fplt = plt.bar(indices, foreigners['means'], color='r')\n",
      "# bottom - distance from the x-axis\n",
      "lplt = plt.bar(indices, locals['means'], color='y', bottom=foreigners['means'])\n",
      "# http://matplotlib.org/api/pyplot_api.html#matplotlib.pyplot.xticks\n",
      "plt.xticks(indices, locals['age'], rotation='vertical')\n",
      "# labels\n",
      "plt.xlabel('age groups')\n",
      "plt.ylabel('citizens')\n",
      "# prints the legend\n",
      "# http://matplotlib.org/api/pyplot_api.html#matplotlib.pyplot.legend\n",
      "plt.legend((fplt, lplt), ('foreigners', 'locals'))\n",
      "# show the plot\n",
      "plt.show()"
     ],
     "language": "python",
     "metadata": {},
     "outputs": []
    },
    {
     "cell_type": "markdown",
     "metadata": {},
     "source": [
      "# Fin!"
     ]
    },
    {
     "cell_type": "markdown",
     "metadata": {},
     "source": [
      "## PS\n",
      "\n",
      "If you are interested in more examples, check [this](http://matplotlib.org/users/screenshots.html) out."
     ]
    },
    {
     "cell_type": "code",
     "collapsed": false,
     "input": [],
     "language": "python",
     "metadata": {},
     "outputs": []
    }
   ],
   "metadata": {}
  }
 ]
}