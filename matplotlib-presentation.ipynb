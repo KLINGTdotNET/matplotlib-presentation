{
 "metadata": {
  "name": "",
  "signature": "sha256:e120bc7f712457ee5edd947122651542bbd6a8907e575e34e69a2f874d213972"
 },
 "nbformat": 3,
 "nbformat_minor": 0,
 "worksheets": [
  {
   "cells": [
    {
     "cell_type": "markdown",
     "metadata": {},
     "source": [
      "# Matplotlib\n",
      "\n",
      "## The Python answer to [gnuplot](http://www.gnuplot.info/)\n",
      "\n",
      "---"
     ]
    },
    {
     "cell_type": "markdown",
     "metadata": {},
     "source": [
      "### What is matplotlib?\n",
      "\n",
      "Matplotlib is a python library for plotting 2D Data. ..."
     ]
    },
    {
     "cell_type": "markdown",
     "metadata": {},
     "source": [
      "### How to install matplotlib?\n",
      "\n",
      "#### via pip\n",
      "\n",
      "..."
     ]
    },
    {
     "cell_type": "markdown",
     "metadata": {},
     "source": [
      "### Basic usage\n",
      "\n",
      "..."
     ]
    },
    {
     "cell_type": "code",
     "collapsed": false,
     "input": [],
     "language": "python",
     "metadata": {},
     "outputs": []
    }
   ],
   "metadata": {}
  }
 ]
}