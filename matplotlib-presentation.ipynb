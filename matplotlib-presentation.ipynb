{
 "metadata": {
  "name": "",
  "signature": "sha256:09baad2ffc4dcd1dc52fcbdfe152224a47552e2455bf6567b80a8cee0d7cd3c8"
 },
 "nbformat": 3,
 "nbformat_minor": 0,
 "worksheets": [
  {
   "cells": [
    {
     "cell_type": "markdown",
     "metadata": {},
     "source": [
      "# Matplotlib\n",
      "\n",
      "## A python 2D plotting library\n",
      "\n",
      "[Andreas Linz](www.klingt.net), Ying-Chi Lin and Huan Meng.\n",
      "\n",
      "This presentation refers to the latest stable matplotlib version [1.4.2](http://matplotlib.org/1.4.2/index.html).\n",
      "\n",
      "---"
     ]
    },
    {
     "cell_type": "markdown",
     "metadata": {},
     "source": [
      "### Outline:\n",
      "    - What is matplotlib?\n",
      "    - How to install matplotlib?\n",
      "    - Setting up matplotlib for iPython Notebook\n",
      "    - Pyplot tutorial "
     ]
    },
    {
     "cell_type": "markdown",
     "metadata": {},
     "source": [
      "## What is matplotlib?\n",
      "\n",
      "- [open-source](https://github.com/matplotlib/matplotlib) python library for 2D plotting\n",
      "- API inspired by [MATLAB](http://nl.mathworks.com/)\n",
      "- PSF-like [license](http://matplotlib.org/users/license.html)\n",
      "- creates publication quality figures\n",
      "- can be used in python scripts, Ipython notebooks, etc.\n",
      "- backends for generating vector or pixel graphics, PDFs, postscript etc.\n",
      "- Other extension codes,Numpy etc\n",
      "- some of the available diagram types: plots, histograms, bar charts, scatterplots ...\n",
      "- matplotlib is divided in three main parts:\n",
      "    1. **pylab interface** to create MATLAB like figures, provided by `matplotlib.pylab`\n",
      "    2. **matplotlib frontend** or *matplotlib API*\n",
      "    3. **matplotlib backends** are the renderers for different kinds of formats,device-dependent drawing devices"
     ]
    },
    {
     "cell_type": "markdown",
     "metadata": {},
     "source": [
      "## How to install matplotlib?\n",
      "\n",
      "At first make sure you have pip installed! \n",
      "- Pip works on Unix/Linux, OS X, and Windows.\n",
      "- Pip included with Python\n",
      "\n",
      "\n",
      "### Source install from git\n",
      "- If you are interested in contributing to matplotlib development, running the latest source code, or just like to build everything yourself, it is not dicult to build matplotlib from source. \n",
      "> git clone git@github.com:matplotlib/matplotlib.git\n",
      "> cd matplotlib\n",
      "> python setup.py install\n",
      "\n",
      "\n",
      "### OSX\n",
      "\n",
      "- new terminal APP \n",
      "  > curl -O https://bootstrap.pypa.io/get-pip.py\n",
      "    python get-pip.py\n",
      "    pip install matplotlib\n",
      "    \n",
      "- if you want to install IPython\n",
      "  > pip install ipython[notebook]\n",
      "\n",
      "\n",
      "\n",
      "\n",
      "### Linux\n",
      "\n",
      "- use the package manager of your choice, \u201cAdd Software\u201d method\n",
      "- usually the package should be called something like `python-pip`\n",
      "\n",
      "### Windows\n",
      "\n",
      "- install the latest [python release](https://www.python.org/downloads/windows/) (python 3.4+ includes pip)\n",
      "- add pip to your `PATH` by adding the `Scripts/` subdirectory of your python installation to this environment variable:\n",
      "    - `Start \u2192 Control Panel \u2192 System \u2192 Advanced \u2192 Environment Variables ...`\n",
      "    - append `Path` under *System Variables* with the Path of the `Scripts` directory, the default is `C:\\Python34\\Scripts`\n",
      "...\n",
      "\n",
      "#### install matplotlib\n",
      "\n",
      "- sidenote: if you haven't installed Ipython then you can install it via `pip install ipython[notebook]` (installs with dependencies for Ipython notebooks)\n",
      "- `pip install matplotlib`\n",
      "\n",
      "- use the [precompiled installers](http://matplotlib.org/downloads.html) for installing matplotlib\n",
      "\n",
      "### check your installation\n",
      "\n",
      "- `python3 -c 'import matplotlib; print(matplotlib.__version__, matplotlib.__file__)'`\n",
      "- `python2.7 -c 'import matplotlib; print(matplotlib.__version__, matplotlib.__file__)'`\n"
     ]
    },
    {
     "cell_type": "markdown",
     "metadata": {},
     "source": [
      "---"
     ]
    },
    {
     "cell_type": "markdown",
     "metadata": {},
     "source": [
      "#Idea (remove this later)\n",
      "\n",
      "Maybe we should show step-by-step, using the same example data, how to build basic. At first do a simple point-diagram, like you have done, then add descriptions to the x- and y-axis, change the output resolution ...\n",
      "\n",
      "see [Parts of a figure](http://matplotlib.org/faq/usage_faq.html)"
     ]
    },
    {
     "cell_type": "markdown",
     "metadata": {},
     "source": [
      "## Setting up matplotlib for Notebook\n",
      "\n",
      "### Enable matplotlib\n",
      "\n",
      "- start Ipython with the `--matplotlib` **switch**: `ipython notebook --matplotlib`\n",
      "- *or* use the **magic command** at the top cell of your notebook: `%matplotlib inline`"
     ]
    },
    {
     "cell_type": "markdown",
     "metadata": {},
     "source": [
      "- inline - show plots inside the Notebook"
     ]
    },
    {
     "cell_type": "code",
     "collapsed": false,
     "input": [
      "%matplotlib inline\n",
      "import matplotlib.pyplot as plt"
     ],
     "language": "python",
     "metadata": {},
     "outputs": [],
     "prompt_number": 11
    },
    {
     "cell_type": "markdown",
     "metadata": {},
     "source": [
      "A small test example to see if matplotlib is working properly on your Notebook"
     ]
    },
    {
     "cell_type": "code",
     "collapsed": false,
     "input": [
      "plt.plot([2,4,6,9],[1,4,9,16], 'ro')\n",
      "plt.axis([0, 10, 0, 20])\n",
      "plt.show()"
     ],
     "language": "python",
     "metadata": {},
     "outputs": [
      {
       "metadata": {},
       "output_type": "display_data",
       "png": "[encoded data removed]",
       "text": [
        "<matplotlib.figure.Figure at 0x106076940>"
       ]
      }
     ],
     "prompt_number": 12
    },
    {
     "cell_type": "markdown",
     "metadata": {},
     "source": [
      "# Pyplot tutorial\n",
      "    \n",
      "### What is pyplot?\n",
      "- matplotlib.pyplot: is a collection of functions that make matplotlib work like MATLAB \n",
      "- each pyplot function makes some change to a figure: eg, create a figure, create a plotting area in a figure, decorate the plot with labels, etc\n",
      "- for detailed descriptions of all pyplot functions, see  <a href='http://matplotlib.org/api/pyplot_api.html'>here</a>"
     ]
    },
    {
     "cell_type": "markdown",
     "metadata": {},
     "source": [
      "### Parts of a Figure\n",
      "<img src=\"data/fig_map.png\">\n",
      "#### Figure\n",
      "- can contain several Axes (= plots)\n",
      "- to create a new figure use"
     ]
    },
    {
     "cell_type": "code",
     "collapsed": false,
     "input": [
      "fig = plt.figure()  # create an empty figure with no axes\n",
      "fig, ax = plt.subplots(2, 2)  # a figure with a 2x2 grid of Axes"
     ],
     "language": "python",
     "metadata": {},
     "outputs": [
      {
       "metadata": {},
       "output_type": "display_data",
       "text": [
        "<matplotlib.figure.Figure at 0x106108b70>"
       ]
      },
      {
       "metadata": {},
       "output_type": "display_data",
       "png": "[encoded data removed]",
       "text": [
        "<matplotlib.figure.Figure at 0x106108208>"
       ]
      }
     ],
     "prompt_number": 13
    },
    {
     "cell_type": "markdown",
     "metadata": {},
     "source": [
      "function <b> subplots( )</b> returns a tuple <i> fig, ax</i>\n",
      "- <i> fig </i> is the matplotlib.figure.Figure object\n",
      "- <i>ax  </i> can be either a single axes object or an array of axes objects"
     ]
    },
    {
     "cell_type": "markdown",
     "metadata": {},
     "source": [
      "## How to draw a simple plot (Axes)\n",
      "\n",
      "### Function:  plot(arg, kwargs)\n",
      " - for ploting lines and/or markers to the Axes\n",
      " - <i>arg</i> can be a list or multiple x, y pairs"
     ]
    },
    {
     "cell_type": "code",
     "collapsed": false,
     "input": [
      "# define data as lists\n",
      "x1 = [2,4,6,8]\n",
      "y1 = [5.5,7,2,4]\n",
      "x2 = [4,6,8,10,12,14]\n",
      "y2 = [-12,-14,-7,-12,-3.3,-1]\n",
      "#let's draw the first line\n",
      "plt.plot(y1)\n",
      "\n",
      "#draw x, y plot\n",
      "#plt.plot(x1,y1)\n",
      "\n",
      "#draw two lines in one plot\n",
      "#plt.plot(x1,y1,x2,y2)\n",
      "\n",
      "plt.show()"
     ],
     "language": "python",
     "metadata": {},
     "outputs": [
      {
       "metadata": {},
       "output_type": "display_data",
       "png": "[encoded data removed]",
       "text": [
        "<matplotlib.figure.Figure at 0x105ea92b0>"
       ]
      }
     ],
     "prompt_number": 68
    },
    {
     "cell_type": "markdown",
     "metadata": {},
     "source": [
      "### Change line/marker style\n",
      "- <i> kwargs </i?: so-called 'keyword args', is a string to specify the formating of the plot. It contains actually the 'keys' of several <a href='http://matplotlib.org/api/pyplot_api.html'>formating dictionaries</a> which define such as line style, marker style and color. "
     ]
    },
    {
     "cell_type": "code",
     "collapsed": false,
     "input": [
      "#-g : line in green \n",
      "plt.plot(y1,'-g')\n",
      "\n",
      "#ro- : red circle with line\n",
      "plt.plot(x1,y1,'ro-')\n",
      "\n",
      "#g* : star symbols in green\n",
      "plt.plot(x1,y1,'ro-',x2,y2,'g*')\n",
      "plt.show()"
     ],
     "language": "python",
     "metadata": {},
     "outputs": [
      {
       "metadata": {},
       "output_type": "display_data",
       "png": "[encoded data removed]",
       "text": [
        "<matplotlib.figure.Figure at 0x105d39588>"
       ]
      }
     ],
     "prompt_number": 15
    },
    {
     "cell_type": "markdown",
     "metadata": {},
     "source": [
      "Instead of using the keys(abbreviations), <i> kwargs </i> can be also given using <a href='http://matplotlib.org/api/lines_api.html'>Line2D</a> property assignments.\n",
      "\n",
      "<b> axis( )</b>: define the range of the axes [xmin, xmax, ymin, ymax]\n",
      "\n",
      "<b> legend( )</b>: show labels"
     ]
    },
    {
     "cell_type": "code",
     "collapsed": false,
     "input": [
      "plt.plot(x2, y2, color='green', linestyle='dashed', marker='o',\n",
      "     markerfacecolor='blue', markersize=12,label='line1',linewidth=3)\n",
      "plt.axis([2, 16, -16, 2])\n",
      "plt.legend()\n",
      "plt.show()"
     ],
     "language": "python",
     "metadata": {},
     "outputs": [
      {
       "metadata": {},
       "output_type": "display_data",
       "png": "[encoded data removed]",
       "text": [
        "<matplotlib.figure.Figure at 0x105bb05f8>"
       ]
      }
     ],
     "prompt_number": 16
    },
    {
     "cell_type": "markdown",
     "metadata": {},
     "source": [
      "<b> setp( ) </b>  (\u201cset property\u201d) : can also be used to define line style"
     ]
    },
    {
     "cell_type": "code",
     "collapsed": false,
     "input": [
      "lines = plt.plot(x1, y1, x2, y2)\n",
      "# use keyword args\n",
      "plt.setp(lines, color='r', linewidth=2.0) \n",
      "# or MATLAB style string value pairs\n",
      "plt.setp(lines, 'color', 'r', 'linewidth', 2.0)\n",
      "plt.show()"
     ],
     "language": "python",
     "metadata": {},
     "outputs": [
      {
       "metadata": {},
       "output_type": "display_data",
       "png": "[encoded data removed]",
       "text": [
        "<matplotlib.figure.Figure at 0x106027898>"
       ]
      }
     ],
     "prompt_number": 47
    },
    {
     "cell_type": "markdown",
     "metadata": {},
     "source": [
      "### Adding axes title, axis label and line legend\n",
      "to see available <a href=http://matplotlib.org/api/text_api.html>text property</a>  (horizontalalignment, rotation etc...)"
     ]
    },
    {
     "cell_type": "code",
     "collapsed": false,
     "input": [
      "line1 = plt.plot(x1, y1)\n",
      "line2 = plt.plot(x2, y2)\n",
      "plt.setp(line1, color='r', linewidth=2.0, label='mouse')\n",
      "plt.setp(line2, color='b', linewidth=2.0, label='pig')\n",
      "plt.title('test results', color='g',fontsize=18)\n",
      "plt.xlabel('days',fontsize=16,style='italic')\n",
      "plt.ylabel('value',fontsize=16,style='italic', rotation='horizontal')\n",
      "plt.legend() # to show legend\n",
      "plt.show()"
     ],
     "language": "python",
     "metadata": {},
     "outputs": [
      {
       "metadata": {},
       "output_type": "display_data",
       "png": "[encoded data removed]",
       "text": [
        "<matplotlib.figure.Figure at 0x10642df98>"
       ]
      }
     ],
     "prompt_number": 67
    },
    {
     "cell_type": "markdown",
     "metadata": {},
     "source": [
      "There are many different types of graphs possible, for more <a href='http://matplotlib.org/users/screenshots.html#simple-plot'>examples</a>."
     ]
    },
    {
     "cell_type": "markdown",
     "metadata": {},
     "source": [
      "## Using external datasets"
     ]
    },
    {
     "cell_type": "markdown",
     "metadata": {},
     "source": [
      "- all plotting functions expect `np.array` or `np.ma.masked_array` as input (where `np` is numpy)\n",
      "- example datasource [Berlin OpenData](http://daten.berlin.de) (their data is not UTF-8 formatted!)"
     ]
    },
    {
     "cell_type": "code",
     "collapsed": false,
     "input": [
      "# distribution of age and population for Berlin districts divided by foreigners and locals\n",
      "import csv\n",
      "from statistics import mean\n",
      "\n",
      "def clean(age, count):\n",
      "    if 'und' in age:\n",
      "        agerange = '95-100+'\n",
      "    else:\n",
      "        ages = age.split('_')\n",
      "        agerange = '{}-{}'.format(ages[0], ages[1])\n",
      "    return agerange, int(count.split(',')[0])\n",
      "\n",
      "data = {'total': {'foreigner': {}, 'local': {}}}\n",
      "with open('data/EWR_Ortsteile_2012-12-31.csv') as f:\n",
      "    # automatically uses csv header to generate keys\n",
      "    csvdata = csv.DictReader(f, delimiter=';')\n",
      "    for dict_row in csvdata:\n",
      "        district = dict_row['Bez-Name']\n",
      "        # maybe I should use defaultdicts ...\n",
      "        if not district in data:\n",
      "            data[district] = {}\n",
      "        citizenship = dict_row['Staatsangeh']\n",
      "        age, cnt = clean(dict_row['Altersgr'], dict_row['H\u00e4ufigkeit'])\n",
      "        if citizenship == 'A':\n",
      "            if not age in data['total']['foreigner']:\n",
      "                data['total']['foreigner'][age] = []\n",
      "            data['total']['foreigner'][age].append(cnt)\n",
      "            if not 'foreigner' in data[district]:\n",
      "                data[district]['foreigner'] = {}\n",
      "            data[district]['foreigner'][age] = cnt\n",
      "        elif citizenship == 'D':\n",
      "            if not age in data['total']['local']:\n",
      "                data['total']['local'][age] = []\n",
      "            data['total']['local'][age].append(cnt)\n",
      "            if not 'local' in data[district]:\n",
      "                data[district]['local'] = {}\n",
      "            data[district]['local'][age] = cnt\n",
      "\n",
      "# calculate the average age of each district for foreigner and locals\n",
      "foreigners = {'age':[], 'means': []}\n",
      "for age in sorted(data['total']['foreigner']):\n",
      "    foreigners['age'].append(age)\n",
      "    foreigners['means'].append(mean(data['total']['foreigner'][age]))\n",
      "locals = {'age':[], 'means': []}\n",
      "for age in sorted(data['total']['local']:\n",
      "    locals['age'].append(age)\n",
      "    locals['means'].append(mean(data['total']['local'][age]))\n",
      "\n",
      "indices = np.arange(len(foreigners['means']))\n",
      "fplt = plt.bar(indices, foreigners['means'], color='r')\n",
      "lplt = plt.bar(indices, locals['means'], color='y', bottom=foreigners['means'])\n",
      "plt.xticks(indices, locals['age'], rotation='vertical')\n",
      "plt.xlabel('age groups')\n",
      "plt.ylabel('citizens')\n",
      "plt.legend((fplt, lplt), ('foreigners', 'locals'))\n",
      "plt.show()"
     ],
     "language": "python",
     "metadata": {},
     "outputs": [
      {
       "metadata": {},
       "output_type": "display_data",
       "png": "[encoded data removed]",
       "text": [
        "<matplotlib.figure.Figure at 0x7f463fe85748>"
       ]
      }
     ],
     "prompt_number": 116
    }
   ],
   "metadata": {}
  }
 ]
}